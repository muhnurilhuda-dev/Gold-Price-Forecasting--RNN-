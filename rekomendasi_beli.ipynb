{
 "cells": [
  {
   "cell_type": "code",
   "execution_count": null,
   "metadata": {},
   "outputs": [],
   "source": [
    "st.header(\"Rekomendasi Beli Emas\")\n",
    "    \n",
    "df = pd.read_csv('data/harga_emas_new2.csv')\n",
    "df['Tanggal'] = pd.to_datetime(df['Tanggal'])\n",
    "df.set_index('Tanggal', inplace=True)\n",
    "\n",
    "df['Harga'] = df['Price1'].astype(str).str.replace('.', '').astype(float)\n",
    "df.drop(['Price1', 'Price2', 'Price3', 'Price5', 'Price10', 'Price25', 'Price50', 'Price100'], axis=1, inplace=True)"
   ]
  },
  {
   "cell_type": "code",
   "execution_count": null,
   "metadata": {},
   "outputs": [],
   "source": [
    "df['Month'] = df.index.month\n",
    "df['Year'] = df.index.year\n",
    "df.head(10)"
   ]
  },
  {
   "cell_type": "code",
   "execution_count": null,
   "metadata": {},
   "outputs": [],
   "source": [
    "monthly_avg_prices = df.groupby(['Year', 'Month'])['Harga'].mean().reset_index()\n",
    "monthly_avg_prices_pivot = monthly_avg_prices.pivot(index='Year', columns='Month', values='Harga')\n",
    "monthly_avg_prices_pivot.head(10)"
   ]
  },
  {
   "cell_type": "code",
   "execution_count": null,
   "metadata": {},
   "outputs": [],
   "source": [
    "average_monthly_prices = monthly_avg_prices_pivot.mean(axis=0)\n",
    "recommended_month = average_monthly_prices.idxmin()\n",
    "print(\"Recommended month: \" + recommended_month)"
   ]
  },
  {
   "cell_type": "code",
   "execution_count": null,
   "metadata": {},
   "outputs": [],
   "source": [
    "bulan = {        1: \"Januari\",        2: \"Februari\",        3: \"Maret\",        4: \"April\",        5: \"Mei\",        6: \"Juni\",        7: \"Juli\",        8: \"Agustus\",        9: \"September\",        10: \"Oktober\",        11: \"November\",        12: \"Desember\"    }        month_name_id = bulan[recommended_month]        st.write(f\"Berdasarkan data historis, harga emas cenderung paling rendah pada bulan: {month_name_id}\")        st.bar_chart(average_monthly_prices)        st.write(\"Rekomendasi beli:\")    st.success(f\"Bulan terbaik untuk membeli emas adalah bulan {month_name_id} berdasarkan tren harga historis.\")"
   ]
  }
 ],
 "metadata": {
  "kernelspec": {
   "display_name": "base",
   "language": "python",
   "name": "python3"
  },
  "language_info": {
   "name": "python",
   "version": "3.11.7"
  }
 },
 "nbformat": 4,
 "nbformat_minor": 2
}
